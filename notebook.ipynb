{
 "cells": [
  {
   "cell_type": "markdown",
   "metadata": {},
   "source": [
    "# Setup"
   ]
  },
  {
   "cell_type": "code",
   "execution_count": null,
   "metadata": {},
   "outputs": [],
   "source": [
    "%conda install pytorch torchvision torchaudio cudatoolkit = 11.3 - c pytorch\n",
    "%conda install numpy pandas matplotlib\n",
    "%pip install opencv-python keyboard Pillow pyautogui wandb"
   ]
  },
  {
   "cell_type": "code",
   "execution_count": 11,
   "metadata": {},
   "outputs": [],
   "source": [
    "import os\n",
    "import time\n",
    "import shutil\n",
    "import copy\n",
    "import uuid\n",
    "import numpy as np\n",
    "import cv2\n",
    "import keyboard as kb\n",
    "from PIL import ImageGrab, ImageFilter\n",
    "import pyautogui\n",
    "from pathlib import Path\n",
    "import pandas as pd\n",
    "import matplotlib.pyplot as plt\n",
    "import wandb\n",
    "\n",
    "import torch\n",
    "import torchvision\n",
    "import torch.nn as nn\n",
    "from torchvision.io import read_image\n",
    "from torch.utils.data import Dataset\n",
    "from torchvision import datasets, transforms, utils, models\n",
    "import torch.optim as optim\n",
    "from torch.optim import lr_scheduler"
   ]
  },
  {
   "cell_type": "code",
   "execution_count": 15,
   "metadata": {},
   "outputs": [],
   "source": [
    "DATA_DIR = 'data'"
   ]
  },
  {
   "cell_type": "code",
   "execution_count": 16,
   "metadata": {},
   "outputs": [
    {
     "name": "stderr",
     "output_type": "stream",
     "text": [
      "Failed to detect the name of this notebook, you can set it manually with the WANDB_NOTEBOOK_NAME environment variable to enable code saving.\n",
      "\u001b[34m\u001b[1mwandb\u001b[0m: Currently logged in as: \u001b[33meddiezhuang\u001b[0m. Use \u001b[1m`wandb login --relogin`\u001b[0m to force relogin\n"
     ]
    },
    {
     "data": {
      "text/html": [
       "Tracking run with wandb version 0.12.21"
      ],
      "text/plain": [
       "<IPython.core.display.HTML object>"
      ]
     },
     "metadata": {},
     "output_type": "display_data"
    },
    {
     "data": {
      "text/html": [
       "Run data is saved locally in <code>d:\\Users\\zhuan\\GeekyStuff\\Python\\Paper-io-AI\\wandb\\run-20220714_153646-2r8wqpoo</code>"
      ],
      "text/plain": [
       "<IPython.core.display.HTML object>"
      ]
     },
     "metadata": {},
     "output_type": "display_data"
    },
    {
     "data": {
      "text/html": [
       "Syncing run <strong><a href=\"https://wandb.ai/eddiezhuang/paper-io-ai/runs/2r8wqpoo\" target=\"_blank\">decent-dream-10</a></strong> to <a href=\"https://wandb.ai/eddiezhuang/paper-io-ai\" target=\"_blank\">Weights & Biases</a> (<a href=\"https://wandb.me/run\" target=\"_blank\">docs</a>)<br/>"
      ],
      "text/plain": [
       "<IPython.core.display.HTML object>"
      ]
     },
     "metadata": {},
     "output_type": "display_data"
    },
    {
     "data": {
      "text/html": [
       "<button onClick=\"this.nextSibling.style.display='block';this.style.display='none';\">Display W&B run</button><iframe src=\"https://wandb.ai/eddiezhuang/paper-io-ai/runs/2r8wqpoo?jupyter=true\" style=\"border:none;width:100%;height:420px;display:none;\"></iframe>"
      ],
      "text/plain": [
       "<wandb.sdk.wandb_run.Run at 0x21600042100>"
      ]
     },
     "execution_count": 16,
     "metadata": {},
     "output_type": "execute_result"
    }
   ],
   "source": [
    "wandb.login()\n",
    "wandb.init(project=\"paper-io-ai\", config={\n",
    "    \"epochs\": 25,\n",
    "    \"learning_rate\": 0.001,\n",
    "    \"momentum\": 0.9,\n",
    "    \"step_size\": 7,\n",
    "    \"gamma\": 0.1\n",
    "})"
   ]
  },
  {
   "cell_type": "markdown",
   "metadata": {},
   "source": [
    "# Data Collection"
   ]
  },
  {
   "cell_type": "code",
   "execution_count": 62,
   "metadata": {},
   "outputs": [],
   "source": [
    "# Resets data folder\n",
    "dirpath = Path('data')\n",
    "if dirpath.exists():\n",
    "    shutil.rmtree(dirpath)\n",
    "\n",
    "os.makedirs(os.path.join('data', 'w'))\n",
    "os.makedirs(os.path.join('data', 'a'))\n",
    "os.makedirs(os.path.join('data', 's'))\n",
    "os.makedirs(os.path.join('data', 'd'))"
   ]
  },
  {
   "cell_type": "code",
   "execution_count": 13,
   "metadata": {},
   "outputs": [
    {
     "name": "stdout",
     "output_type": "stream",
     "text": [
      "(1813, 692)\n"
     ]
    }
   ],
   "source": [
    "# Gets coordinates for bbox\n",
    "kb.wait('enter')\n",
    "\n",
    "currentMouseX, currentMouseY = pyautogui.position()\n",
    "print(f'({currentMouseX}, {currentMouseY})')"
   ]
  },
  {
   "cell_type": "code",
   "execution_count": 17,
   "metadata": {},
   "outputs": [],
   "source": [
    "def shoot_screen():\n",
    "    screenshot = ImageGrab.grab(bbox=(2, 113, 1275, 1027))\n",
    "    return screenshot"
   ]
  },
  {
   "cell_type": "code",
   "execution_count": 66,
   "metadata": {},
   "outputs": [
    {
     "name": "stdout",
     "output_type": "stream",
     "text": [
      "Exiting data collection!\n"
     ]
    }
   ],
   "source": [
    "dir = ''\n",
    "\n",
    "while True:\n",
    "\n",
    "    if kb.is_pressed('w'):\n",
    "        dir = 'w'\n",
    "    elif kb.is_pressed('a'):\n",
    "        dir = 'a'\n",
    "    elif kb.is_pressed('s'):\n",
    "        dir = 's'\n",
    "    elif kb.is_pressed('d'):\n",
    "        dir = 'd'\n",
    "    else:\n",
    "        dir = ''\n",
    "\n",
    "    if dir != '':\n",
    "        screenshot = shoot_screen()\n",
    "        filename = str(uuid.uuid4()) + '.jpg'\n",
    "        screenshot.save(f'data/{dir}/{filename}')\n",
    "\n",
    "    if kb.is_pressed('esc'):\n",
    "        print('Exiting data collection!')\n",
    "        break"
   ]
  },
  {
   "cell_type": "markdown",
   "metadata": {},
   "source": [
    "# Training\n"
   ]
  },
  {
   "cell_type": "markdown",
   "metadata": {},
   "source": [
    "## Load Data"
   ]
  },
  {
   "cell_type": "code",
   "execution_count": 26,
   "metadata": {},
   "outputs": [
    {
     "data": {
      "text/plain": [
       "'NVIDIA GeForce GTX 1650'"
      ]
     },
     "execution_count": 26,
     "metadata": {},
     "output_type": "execute_result"
    }
   ],
   "source": [
    "data_transform = transforms.Compose([\n",
    "    transforms.Resize((224, 224)),\n",
    "    transforms.Grayscale(num_output_channels=3),\n",
    "    transforms.ToTensor(),\n",
    "    transforms.Normalize([0.485], [0.229])\n",
    "])\n",
    "data = datasets.ImageFolder(DATA_DIR, data_transform)\n",
    "class_names = data.classes\n",
    "device = torch.device(\"cuda\")\n",
    "torch.cuda.get_device_name(device)"
   ]
  },
  {
   "cell_type": "code",
   "execution_count": 27,
   "metadata": {},
   "outputs": [],
   "source": [
    "train_size = int(0.8 * len(data))\n",
    "val_size = len(data) - train_size\n",
    "\n",
    "train_data, val_data = torch.utils.data.random_split(\n",
    "    data, [train_size, val_size])\n",
    "image_datasets = {\n",
    "    'train': train_data,\n",
    "    'val': val_data\n",
    "}\n",
    "dataloaders = {x: torch.utils.data.DataLoader(image_datasets[x], batch_size=4,\n",
    "                                              shuffle=True, num_workers=4) for x in ['train', 'val']}\n",
    "dataset_sizes = {x: len(image_datasets[x]) for x in ['train', 'val']}"
   ]
  },
  {
   "cell_type": "markdown",
   "metadata": {},
   "source": [
    "## Visualize Images\n"
   ]
  },
  {
   "cell_type": "code",
   "execution_count": 28,
   "metadata": {},
   "outputs": [
    {
     "data": {
      "image/png": "[encoded data removed]",
      "text/plain": [
       "<Figure size 432x288 with 1 Axes>"
      ]
     },
     "metadata": {
      "needs_background": "light"
     },
     "output_type": "display_data"
    }
   ],
   "source": [
    "def imshow(inp, title=None):\n",
    "    \"\"\"Imshow for Tensor.\"\"\"\n",
    "    inp = inp.numpy().transpose((1, 2, 0))\n",
    "    mean = np.array([0.485])\n",
    "    std = np.array([0.229])\n",
    "    inp = std * inp + mean\n",
    "    inp = np.clip(inp, 0, 1)\n",
    "    plt.imshow(inp)\n",
    "    if title is not None:\n",
    "        plt.title(title)\n",
    "    plt.pause(0.001)  # pause a bit so that plots are updated\n",
    "\n",
    "\n",
    "# Get a batch of training data\n",
    "inputs, classes = next(iter(dataloaders['train']))\n",
    "\n",
    "# Make a grid from batch\n",
    "out = torchvision.utils.make_grid(inputs)\n",
    "\n",
    "imshow(out, title=[class_names[x] for x in classes])"
   ]
  },
  {
   "cell_type": "markdown",
   "metadata": {},
   "source": [
    "## Train the Model\n"
   ]
  },
  {
   "cell_type": "code",
   "execution_count": 29,
   "metadata": {},
   "outputs": [],
   "source": [
    "def train_model(model, criterion, optimizer, scheduler, num_epochs=wandb.config.epochs):\n",
    "    wandb.watch(model, log_freq=100)\n",
    "\n",
    "    since = time.time()\n",
    "    best_model_wts = copy.deepcopy(model.state_dict())\n",
    "    best_acc = 0.0\n",
    "\n",
    "    for epoch in range(num_epochs):\n",
    "        print(f\"Epoch {epoch + 1}/{num_epochs}\")\n",
    "        print('-' * 10)\n",
    "\n",
    "        for phase in ['train', 'val']:\n",
    "            if phase == 'train':\n",
    "                model.train()\n",
    "            else:\n",
    "                model.eval()\n",
    "\n",
    "            running_loss = 0.0\n",
    "            running_corrects = 0\n",
    "\n",
    "            for inputs, labels in dataloaders[phase]:\n",
    "                inputs = inputs.to(device)  # load data to GPU\n",
    "                labels = labels.to(device)\n",
    "\n",
    "                optimizer.zero_grad()  # clear gradients for this training step\n",
    "\n",
    "                with torch.set_grad_enabled(phase == 'train'):\n",
    "                    # Calculate loss\n",
    "                    outputs = model(inputs)\n",
    "                    _, preds = torch.max(outputs, 1)\n",
    "                    loss = criterion(outputs, labels)\n",
    "\n",
    "                    if phase == 'train':\n",
    "                        loss.backward()\n",
    "                        optimizer.step()\n",
    "\n",
    "                running_loss += loss.item() * inputs.size(0)\n",
    "                running_corrects += torch.sum(preds == labels.data)\n",
    "            if phase == 'train':\n",
    "                scheduler.step()\n",
    "\n",
    "            epoch_loss = running_loss / dataset_sizes[phase]\n",
    "            epoch_acc = running_corrects.double() / dataset_sizes[phase]\n",
    "\n",
    "            print(f'{phase} Loss: {epoch_loss:.4f} Acc: {epoch_acc:.4f}')\n",
    "            wandb.log({\"loss\": epoch_loss, \"acc\": epoch_acc})\n",
    "\n",
    "            # save the model if it is the best so far\n",
    "            if phase == 'val' and epoch_acc > best_acc:\n",
    "                best_acc = epoch_acc\n",
    "                best_model_wts = copy.deepcopy(model.state_dict())\n",
    "\n",
    "        print()\n",
    "\n",
    "    time_elapsed = time.time() - since\n",
    "    print(\n",
    "        f'Training complete in {time_elapsed // 60:.0f}m {time_elapsed % 60:.0f}s')\n",
    "    print(f'Best val Acc: {best_acc:4f}')\n",
    "\n",
    "    model.load_state_dict(best_model_wts)\n",
    "    return model"
   ]
  },
  {
   "cell_type": "code",
   "execution_count": 30,
   "metadata": {},
   "outputs": [],
   "source": [
    "model_ft = models.resnet18(pretrained=True)\n",
    "num_ftrs = model_ft.fc.in_features\n",
    "\n",
    "model_ft.fc = nn.Linear(num_ftrs, len(class_names))\n",
    "\n",
    "model_df = model_ft.to(device)\n",
    "\n",
    "criterion = nn.CrossEntropyLoss()\n",
    "\n",
    "optimizer_ft = optim.SGD(model_ft.parameters(),\n",
    "                         lr=wandb.config.learning_rate, momentum=wandb.config.momentum)\n",
    "\n",
    "exp_lr_scheduler = lr_scheduler.StepLR(\n",
    "    optimizer_ft, step_size=wandb.config.step_size, gamma=wandb.config.gamma)"
   ]
  },
  {
   "cell_type": "code",
   "execution_count": 31,
   "metadata": {},
   "outputs": [
    {
     "name": "stdout",
     "output_type": "stream",
     "text": [
      "Epoch 1/25\n",
      "----------\n",
      "train Loss: 1.3255 Acc: 0.4430\n",
      "val Loss: 0.8397 Acc: 0.6807\n",
      "\n",
      "Epoch 2/25\n",
      "----------\n",
      "train Loss: 0.8212 Acc: 0.6989\n",
      "val Loss: 0.5469 Acc: 0.8046\n",
      "\n",
      "Epoch 3/25\n",
      "----------\n",
      "train Loss: 0.5921 Acc: 0.7867\n",
      "val Loss: 0.4097 Acc: 0.8592\n",
      "\n",
      "Epoch 4/25\n",
      "----------\n",
      "train Loss: 0.5184 Acc: 0.8177\n",
      "val Loss: 0.3052 Acc: 0.8866\n",
      "\n",
      "Epoch 5/25\n",
      "----------\n",
      "train Loss: 0.3965 Acc: 0.8650\n",
      "val Loss: 0.3537 Acc: 0.8845\n",
      "\n",
      "Epoch 6/25\n",
      "----------\n",
      "train Loss: 0.3758 Acc: 0.8734\n",
      "val Loss: 0.3483 Acc: 0.8782\n",
      "\n",
      "Epoch 7/25\n",
      "----------\n",
      "train Loss: 0.3206 Acc: 0.9023\n",
      "val Loss: 0.2822 Acc: 0.9139\n",
      "\n",
      "Epoch 8/25\n",
      "----------\n",
      "train Loss: 0.1793 Acc: 0.9427\n",
      "val Loss: 0.1947 Acc: 0.9349\n",
      "\n",
      "Epoch 9/25\n",
      "----------\n",
      "train Loss: 0.1262 Acc: 0.9606\n",
      "val Loss: 0.1881 Acc: 0.9328\n",
      "\n",
      "Epoch 10/25\n",
      "----------\n",
      "train Loss: 0.1029 Acc: 0.9679\n",
      "val Loss: 0.1731 Acc: 0.9349\n",
      "\n",
      "Epoch 11/25\n",
      "----------\n",
      "train Loss: 0.1003 Acc: 0.9679\n",
      "val Loss: 0.1614 Acc: 0.9412\n",
      "\n",
      "Epoch 12/25\n",
      "----------\n",
      "train Loss: 0.1019 Acc: 0.9737\n",
      "val Loss: 0.2030 Acc: 0.9328\n",
      "\n",
      "Epoch 13/25\n",
      "----------\n",
      "train Loss: 0.0944 Acc: 0.9711\n",
      "val Loss: 0.1554 Acc: 0.9433\n",
      "\n",
      "Epoch 14/25\n",
      "----------\n",
      "train Loss: 0.0825 Acc: 0.9727\n",
      "val Loss: 0.1608 Acc: 0.9349\n",
      "\n",
      "Epoch 15/25\n",
      "----------\n",
      "train Loss: 0.0724 Acc: 0.9790\n",
      "val Loss: 0.1377 Acc: 0.9475\n",
      "\n",
      "Epoch 16/25\n",
      "----------\n",
      "train Loss: 0.0791 Acc: 0.9753\n",
      "val Loss: 0.1428 Acc: 0.9496\n",
      "\n",
      "Epoch 17/25\n",
      "----------\n",
      "train Loss: 0.1018 Acc: 0.9648\n",
      "val Loss: 0.1506 Acc: 0.9517\n",
      "\n",
      "Epoch 18/25\n",
      "----------\n",
      "train Loss: 0.1021 Acc: 0.9679\n",
      "val Loss: 0.1408 Acc: 0.9517\n",
      "\n",
      "Epoch 19/25\n",
      "----------\n",
      "train Loss: 0.0626 Acc: 0.9837\n",
      "val Loss: 0.1490 Acc: 0.9454\n",
      "\n",
      "Epoch 20/25\n",
      "----------\n",
      "train Loss: 0.0722 Acc: 0.9790\n",
      "val Loss: 0.1652 Acc: 0.9433\n",
      "\n",
      "Epoch 21/25\n",
      "----------\n",
      "train Loss: 0.0731 Acc: 0.9795\n",
      "val Loss: 0.1420 Acc: 0.9517\n",
      "\n",
      "Epoch 22/25\n",
      "----------\n",
      "train Loss: 0.1041 Acc: 0.9721\n",
      "val Loss: 0.1459 Acc: 0.9496\n",
      "\n",
      "Epoch 23/25\n",
      "----------\n",
      "train Loss: 0.0731 Acc: 0.9769\n",
      "val Loss: 0.1426 Acc: 0.9412\n",
      "\n",
      "Epoch 24/25\n",
      "----------\n",
      "train Loss: 0.0555 Acc: 0.9895\n",
      "val Loss: 0.1411 Acc: 0.9496\n",
      "\n",
      "Epoch 25/25\n",
      "----------\n",
      "train Loss: 0.0806 Acc: 0.9764\n",
      "val Loss: 0.1513 Acc: 0.9433\n",
      "\n",
      "Training complete in 16m 18s\n",
      "Best val Acc: 0.951681\n"
     ]
    }
   ],
   "source": [
    "model_ft = train_model(model_ft, criterion, optimizer_ft,\n",
    "                       exp_lr_scheduler, wandb.config.epochs)"
   ]
  },
  {
   "cell_type": "markdown",
   "metadata": {},
   "source": [
    "## Visualize Model Predictions\n"
   ]
  },
  {
   "cell_type": "code",
   "execution_count": 32,
   "metadata": {},
   "outputs": [],
   "source": [
    "def visualize_model(model, num_images=6):\n",
    "    \"\"\"Shows predictions for a few images\"\"\"\n",
    "    was_training = model.training\n",
    "    model.eval()\n",
    "    images_so_far = 0\n",
    "    fig = plt.figure()\n",
    "\n",
    "    with torch.no_grad():  # Reduces memory consumption for inference\n",
    "        for i, (inputs, labels) in enumerate(dataloaders['val']):\n",
    "            inputs = inputs.to(device)\n",
    "            labels = labels.to(device)\n",
    "\n",
    "            outputs = model(inputs)\n",
    "            _, preds = torch.max(outputs, 1)  # Returns the max output\n",
    "\n",
    "            for j in range(inputs.size()[0]):\n",
    "                images_so_far += 1\n",
    "\n",
    "                # // divides and only keeps the integer part\n",
    "                ax = plt.subplot(num_images//2, 2, images_so_far)\n",
    "                ax.axis('off')\n",
    "                ax.set_title(f'predicted: {class_names[preds[j]]}')\n",
    "                imshow(inputs.cpu().data[j])\n",
    "\n",
    "                if images_so_far == num_images:\n",
    "                    model.train(mode=was_training)\n",
    "                    return\n",
    "        model.train(mode=was_training)"
   ]
  },
  {
   "cell_type": "code",
   "execution_count": 33,
   "metadata": {},
   "outputs": [
    {
     "data": {
      "image/png": "[encoded data removed]",
      "text/plain": [
       "<Figure size 432x288 with 1 Axes>"
      ]
     },
     "metadata": {
      "needs_background": "light"
     },
     "output_type": "display_data"
    },
    {
     "data": {
      "image/png": "[encoded data removed]",
      "text/plain": [
       "<Figure size 432x288 with 1 Axes>"
      ]
     },
     "metadata": {
      "needs_background": "light"
     },
     "output_type": "display_data"
    },
    {
     "data": {
      "image/png": "[encoded data removed]",
      "text/plain": [
       "<Figure size 432x288 with 1 Axes>"
      ]
     },
     "metadata": {
      "needs_background": "light"
     },
     "output_type": "display_data"
    },
    {
     "data": {
      "image/png": "[encoded data removed]",
      "text/plain": [
       "<Figure size 432x288 with 1 Axes>"
      ]
     },
     "metadata": {
      "needs_background": "light"
     },
     "output_type": "display_data"
    },
    {
     "data": {
      "image/png": "[encoded data removed]",
      "text/plain": [
       "<Figure size 432x288 with 1 Axes>"
      ]
     },
     "metadata": {
      "needs_background": "light"
     },
     "output_type": "display_data"
    },
    {
     "data": {
      "image/png": "[encoded data removed]",
      "text/plain": [
       "<Figure size 432x288 with 1 Axes>"
      ]
     },
     "metadata": {
      "needs_background": "light"
     },
     "output_type": "display_data"
    }
   ],
   "source": [
    "visualize_model(model_ft)"
   ]
  },
  {
   "cell_type": "markdown",
   "metadata": {},
   "source": [
    "## Save Model\n"
   ]
  },
  {
   "cell_type": "code",
   "execution_count": 34,
   "metadata": {},
   "outputs": [],
   "source": [
    "torch.save(model_ft, os.path.join(wandb.run.dir, 'model.pt'))"
   ]
  },
  {
   "cell_type": "code",
   "execution_count": 35,
   "metadata": {},
   "outputs": [
    {
     "data": {
      "text/html": [
       "Waiting for W&B process to finish... <strong style=\"color:green\">(success).</strong>"
      ],
      "text/plain": [
       "<IPython.core.display.HTML object>"
      ]
     },
     "metadata": {},
     "output_type": "display_data"
    },
    {
     "data": {
      "text/html": [
       "<style>\n",
       "    table.wandb td:nth-child(1) { padding: 0 10px; text-align: left ; width: auto;} td:nth-child(2) {text-align: left ; width: 100%}\n",
       "    .wandb-row { display: flex; flex-direction: row; flex-wrap: wrap; justify-content: flex-start; width: 100% }\n",
       "    .wandb-col { display: flex; flex-direction: column; flex-basis: 100%; flex: 1; padding: 10px; }\n",
       "    </style>\n",
       "<div class=\"wandb-row\"><div class=\"wandb-col\"><h3>Run history:</h3><br/><table class=\"wandb\"><tr><td>acc</td><td>▁▄▄▆▆▆▇▆▇▇▇▇▇█▇██▇█▇▇█▇██▇████▇████▇▇█▇▇</td></tr><tr><td>best_acc</td><td>▁</td></tr><tr><td>loss</td><td>█▅▅▄▃▄▂▃▃▃▂▂▂▁▂▁▁▂▁▂▂▁▂▁▁▁▁▂▁▁▂▁▁▁▁▁▁▁▁▂</td></tr></table><br/></div><div class=\"wandb-col\"><h3>Run summary:</h3><br/><table class=\"wandb\"><tr><td>acc</td><td>0.94328</td></tr><tr><td>best_acc</td><td>0.95168</td></tr><tr><td>loss</td><td>0.1513</td></tr></table><br/></div></div>"
      ],
      "text/plain": [
       "<IPython.core.display.HTML object>"
      ]
     },
     "metadata": {},
     "output_type": "display_data"
    },
    {
     "data": {
      "text/html": [
       "Synced <strong style=\"color:#cdcd00\">decent-dream-10</strong>: <a href=\"https://wandb.ai/eddiezhuang/paper-io-ai/runs/2r8wqpoo\" target=\"_blank\">https://wandb.ai/eddiezhuang/paper-io-ai/runs/2r8wqpoo</a><br/>Synced 6 W&B file(s), 0 media file(s), 0 artifact file(s) and 1 other file(s)"
      ],
      "text/plain": [
       "<IPython.core.display.HTML object>"
      ]
     },
     "metadata": {},
     "output_type": "display_data"
    },
    {
     "data": {
      "text/html": [
       "Find logs at: <code>.\\wandb\\run-20220714_153646-2r8wqpoo\\logs</code>"
      ],
      "text/plain": [
       "<IPython.core.display.HTML object>"
      ]
     },
     "metadata": {},
     "output_type": "display_data"
    }
   ],
   "source": [
    "wandb.finish()"
   ]
  },
  {
   "cell_type": "markdown",
   "metadata": {},
   "source": [
    "# Inference"
   ]
  },
  {
   "cell_type": "markdown",
   "metadata": {},
   "source": [
    "## Load the Model\n"
   ]
  },
  {
   "cell_type": "code",
   "execution_count": 36,
   "metadata": {},
   "outputs": [
    {
     "data": {
      "text/plain": [
       "ResNet(\n",
       "  (conv1): Conv2d(3, 64, kernel_size=(7, 7), stride=(2, 2), padding=(3, 3), bias=False)\n",
       "  (bn1): BatchNorm2d(64, eps=1e-05, momentum=0.1, affine=True, track_running_stats=True)\n",
       "  (relu): ReLU(inplace=True)\n",
       "  (maxpool): MaxPool2d(kernel_size=3, stride=2, padding=1, dilation=1, ceil_mode=False)\n",
       "  (layer1): Sequential(\n",
       "    (0): BasicBlock(\n",
       "      (conv1): Conv2d(64, 64, kernel_size=(3, 3), stride=(1, 1), padding=(1, 1), bias=False)\n",
       "      (bn1): BatchNorm2d(64, eps=1e-05, momentum=0.1, affine=True, track_running_stats=True)\n",
       "      (relu): ReLU(inplace=True)\n",
       "      (conv2): Conv2d(64, 64, kernel_size=(3, 3), stride=(1, 1), padding=(1, 1), bias=False)\n",
       "      (bn2): BatchNorm2d(64, eps=1e-05, momentum=0.1, affine=True, track_running_stats=True)\n",
       "    )\n",
       "    (1): BasicBlock(\n",
       "      (conv1): Conv2d(64, 64, kernel_size=(3, 3), stride=(1, 1), padding=(1, 1), bias=False)\n",
       "      (bn1): BatchNorm2d(64, eps=1e-05, momentum=0.1, affine=True, track_running_stats=True)\n",
       "      (relu): ReLU(inplace=True)\n",
       "      (conv2): Conv2d(64, 64, kernel_size=(3, 3), stride=(1, 1), padding=(1, 1), bias=False)\n",
       "      (bn2): BatchNorm2d(64, eps=1e-05, momentum=0.1, affine=True, track_running_stats=True)\n",
       "    )\n",
       "  )\n",
       "  (layer2): Sequential(\n",
       "    (0): BasicBlock(\n",
       "      (conv1): Conv2d(64, 128, kernel_size=(3, 3), stride=(2, 2), padding=(1, 1), bias=False)\n",
       "      (bn1): BatchNorm2d(128, eps=1e-05, momentum=0.1, affine=True, track_running_stats=True)\n",
       "      (relu): ReLU(inplace=True)\n",
       "      (conv2): Conv2d(128, 128, kernel_size=(3, 3), stride=(1, 1), padding=(1, 1), bias=False)\n",
       "      (bn2): BatchNorm2d(128, eps=1e-05, momentum=0.1, affine=True, track_running_stats=True)\n",
       "      (downsample): Sequential(\n",
       "        (0): Conv2d(64, 128, kernel_size=(1, 1), stride=(2, 2), bias=False)\n",
       "        (1): BatchNorm2d(128, eps=1e-05, momentum=0.1, affine=True, track_running_stats=True)\n",
       "      )\n",
       "    )\n",
       "    (1): BasicBlock(\n",
       "      (conv1): Conv2d(128, 128, kernel_size=(3, 3), stride=(1, 1), padding=(1, 1), bias=False)\n",
       "      (bn1): BatchNorm2d(128, eps=1e-05, momentum=0.1, affine=True, track_running_stats=True)\n",
       "      (relu): ReLU(inplace=True)\n",
       "      (conv2): Conv2d(128, 128, kernel_size=(3, 3), stride=(1, 1), padding=(1, 1), bias=False)\n",
       "      (bn2): BatchNorm2d(128, eps=1e-05, momentum=0.1, affine=True, track_running_stats=True)\n",
       "    )\n",
       "  )\n",
       "  (layer3): Sequential(\n",
       "    (0): BasicBlock(\n",
       "      (conv1): Conv2d(128, 256, kernel_size=(3, 3), stride=(2, 2), padding=(1, 1), bias=False)\n",
       "      (bn1): BatchNorm2d(256, eps=1e-05, momentum=0.1, affine=True, track_running_stats=True)\n",
       "      (relu): ReLU(inplace=True)\n",
       "      (conv2): Conv2d(256, 256, kernel_size=(3, 3), stride=(1, 1), padding=(1, 1), bias=False)\n",
       "      (bn2): BatchNorm2d(256, eps=1e-05, momentum=0.1, affine=True, track_running_stats=True)\n",
       "      (downsample): Sequential(\n",
       "        (0): Conv2d(128, 256, kernel_size=(1, 1), stride=(2, 2), bias=False)\n",
       "        (1): BatchNorm2d(256, eps=1e-05, momentum=0.1, affine=True, track_running_stats=True)\n",
       "      )\n",
       "    )\n",
       "    (1): BasicBlock(\n",
       "      (conv1): Conv2d(256, 256, kernel_size=(3, 3), stride=(1, 1), padding=(1, 1), bias=False)\n",
       "      (bn1): BatchNorm2d(256, eps=1e-05, momentum=0.1, affine=True, track_running_stats=True)\n",
       "      (relu): ReLU(inplace=True)\n",
       "      (conv2): Conv2d(256, 256, kernel_size=(3, 3), stride=(1, 1), padding=(1, 1), bias=False)\n",
       "      (bn2): BatchNorm2d(256, eps=1e-05, momentum=0.1, affine=True, track_running_stats=True)\n",
       "    )\n",
       "  )\n",
       "  (layer4): Sequential(\n",
       "    (0): BasicBlock(\n",
       "      (conv1): Conv2d(256, 512, kernel_size=(3, 3), stride=(2, 2), padding=(1, 1), bias=False)\n",
       "      (bn1): BatchNorm2d(512, eps=1e-05, momentum=0.1, affine=True, track_running_stats=True)\n",
       "      (relu): ReLU(inplace=True)\n",
       "      (conv2): Conv2d(512, 512, kernel_size=(3, 3), stride=(1, 1), padding=(1, 1), bias=False)\n",
       "      (bn2): BatchNorm2d(512, eps=1e-05, momentum=0.1, affine=True, track_running_stats=True)\n",
       "      (downsample): Sequential(\n",
       "        (0): Conv2d(256, 512, kernel_size=(1, 1), stride=(2, 2), bias=False)\n",
       "        (1): BatchNorm2d(512, eps=1e-05, momentum=0.1, affine=True, track_running_stats=True)\n",
       "      )\n",
       "    )\n",
       "    (1): BasicBlock(\n",
       "      (conv1): Conv2d(512, 512, kernel_size=(3, 3), stride=(1, 1), padding=(1, 1), bias=False)\n",
       "      (bn1): BatchNorm2d(512, eps=1e-05, momentum=0.1, affine=True, track_running_stats=True)\n",
       "      (relu): ReLU(inplace=True)\n",
       "      (conv2): Conv2d(512, 512, kernel_size=(3, 3), stride=(1, 1), padding=(1, 1), bias=False)\n",
       "      (bn2): BatchNorm2d(512, eps=1e-05, momentum=0.1, affine=True, track_running_stats=True)\n",
       "    )\n",
       "  )\n",
       "  (avgpool): AdaptiveAvgPool2d(output_size=(1, 1))\n",
       "  (fc): Linear(in_features=512, out_features=5, bias=True)\n",
       ")"
      ]
     },
     "execution_count": 36,
     "metadata": {},
     "output_type": "execute_result"
    }
   ],
   "source": [
    "model_file = wandb.restore(\n",
    "    'model.pt', run_path=\"eddiezhuang/paper-io-ai/1o0dyh11\")\n",
    "\n",
    "model = torch.load(model_file.name)\n",
    "model.to(device)\n",
    "model.eval()"
   ]
  },
  {
   "cell_type": "markdown",
   "metadata": {},
   "source": [
    "## Play in Real Time!\n"
   ]
  },
  {
   "cell_type": "code",
   "execution_count": 42,
   "metadata": {},
   "outputs": [],
   "source": [
    "def get_pred():\n",
    "    screenshot = shoot_screen()\n",
    "    screenshot = data_transform(screenshot).to(device)\n",
    "    screenshot = screenshot.unsqueeze(0)\n",
    "    output = model(screenshot)\n",
    "    print(output)\n",
    "    _, preds = torch.max(output, 1)\n",
    "    key = class_names[preds[0]]\n",
    "    return key"
   ]
  },
  {
   "cell_type": "code",
   "execution_count": 43,
   "metadata": {},
   "outputs": [
    {
     "name": "stdout",
     "output_type": "stream",
     "text": [
      "Starting AI playing...\n",
      "tensor([[-0.3252, -2.4038,  8.2768, -2.2962, -5.0189]], device='cuda:0')\n",
      "tensor([[-0.4320, -3.1174,  8.7533, -2.2715, -4.7194]], device='cuda:0')\n",
      "tensor([[-0.6393, -2.3622,  8.8136, -2.2938, -4.8596]], device='cuda:0')\n",
      "tensor([[-0.8424, -2.3604,  8.7698, -2.5589, -4.4764]], device='cuda:0')\n",
      "tensor([[-0.6472, -2.3632,  8.8250, -2.6877, -4.7549]], device='cuda:0')\n",
      "tensor([[-0.4050, -2.2945,  9.0010, -3.0432, -4.9605]], device='cuda:0')\n",
      "tensor([[-0.4753, -1.9657,  9.0428, -2.9137, -5.1610]], device='cuda:0')\n",
      "tensor([[-0.6298, -2.2403,  9.1625, -2.6173, -5.1744]], device='cuda:0')\n",
      "tensor([[-0.6014, -2.2069,  8.9742, -2.6599, -5.1879]], device='cuda:0')\n",
      "tensor([[-0.8767, -2.5582,  8.9005, -2.6228, -4.1956]], device='cuda:0')\n",
      "tensor([[-0.9592, -2.8695,  8.5933, -2.1594, -3.9157]], device='cuda:0')\n",
      "tensor([[-1.1686, -2.5189,  8.9903, -2.0252, -4.2464]], device='cuda:0')\n",
      "tensor([[-1.7641, -3.4040,  9.7978, -1.4195, -4.9583]], device='cuda:0')\n",
      "tensor([[-1.5282, -3.5145,  9.8639, -2.2584, -4.5000]], device='cuda:0')\n",
      "tensor([[-1.4403, -2.3400,  9.2433, -1.5477, -5.8953]], device='cuda:0')\n",
      "tensor([[-2.4106, -1.7626,  8.8913, -0.4448, -5.7377]], device='cuda:0')\n",
      "tensor([[-2.3507, -1.9459,  9.6115, -1.6880, -5.4899]], device='cuda:0')\n",
      "tensor([[-2.4350, -1.2410,  9.7367, -2.5452, -5.4055]], device='cuda:0')\n",
      "tensor([[-2.0731, -1.7879,  9.4531, -1.7987, -5.3204]], device='cuda:0')\n",
      "tensor([[-1.8505, -2.6587, 10.4233, -3.0305, -5.5586]], device='cuda:0')\n",
      "tensor([[-1.0059, -2.1557,  9.6870, -3.1311, -5.8870]], device='cuda:0')\n",
      "tensor([[-1.1503, -1.8729, 11.0937, -3.0206, -6.9433]], device='cuda:0')\n",
      "tensor([[-1.0124,  0.1061,  9.2980, -3.3096, -6.1659]], device='cuda:0')\n",
      "tensor([[-1.7547,  0.3292, 10.0808, -4.2763, -5.9801]], device='cuda:0')\n",
      "tensor([[-1.7611, -0.9686, 11.2293, -4.2924, -6.3217]], device='cuda:0')\n",
      "tensor([[-2.0106, -1.2208, 10.4152, -3.1359, -6.1715]], device='cuda:0')\n",
      "tensor([[-2.8584, -1.6720,  9.6415, -2.9951, -4.2694]], device='cuda:0')\n",
      "tensor([[-2.5994, -1.2449, 10.4509, -3.8080, -4.2548]], device='cuda:0')\n",
      "tensor([[-2.6729, -1.0005, 10.6966, -3.2187, -4.6564]], device='cuda:0')\n",
      "tensor([[-1.3047, -0.9520,  9.6708, -3.2594, -5.6631]], device='cuda:0')\n",
      "tensor([[-0.5414, -1.3659,  8.8241, -3.3016, -5.1037]], device='cuda:0')\n",
      "tensor([[-0.8423, -0.8233,  8.8600, -3.2927, -4.8939]], device='cuda:0')\n",
      "tensor([[-1.5441, -0.5428, 10.1266, -4.2982, -5.0569]], device='cuda:0')\n",
      "tensor([[-1.2340, -0.1328,  9.9521, -4.4457, -5.1384]], device='cuda:0')\n",
      "tensor([[-0.8055, -0.5484,  9.1238, -3.5902, -5.2120]], device='cuda:0')\n",
      "tensor([[ 0.1279, -0.7198,  8.5706, -3.7349, -5.0320]], device='cuda:0')\n",
      "tensor([[ 0.3748, -0.3434,  7.1942, -3.7460, -4.2279]], device='cuda:0')\n",
      "tensor([[-0.0670,  0.3822,  6.6917, -2.9415, -4.5733]], device='cuda:0')\n",
      "tensor([[-0.3516, -0.1067,  7.5056, -2.7951, -4.8447]], device='cuda:0')\n",
      "tensor([[-0.5027, -0.6999,  7.8509, -3.5418, -4.7821]], device='cuda:0')\n",
      "tensor([[-0.7122, -1.5289,  8.0267, -3.9608, -4.0191]], device='cuda:0')\n",
      "tensor([[ 0.1287, -0.4869,  5.4857, -3.0075, -3.2832]], device='cuda:0')\n",
      "tensor([[ 0.2413, -0.7407,  3.8269, -1.6497, -2.7932]], device='cuda:0')\n",
      "tensor([[-0.7352, -1.4934,  6.2526, -2.4151, -3.3651]], device='cuda:0')\n",
      "tensor([[-0.8115, -1.4802,  4.1917, -1.1006, -1.8708]], device='cuda:0')\n",
      "tensor([[-0.2171, -0.5748,  3.0207, -1.1545, -2.1924]], device='cuda:0')\n",
      "tensor([[ 0.1184, -0.3506,  2.9744, -1.3307, -2.3841]], device='cuda:0')\n",
      "tensor([[ 0.2011, -0.3031,  3.0728, -1.4397, -2.5221]], device='cuda:0')\n",
      "tensor([[ 0.1774, -0.2959,  3.1460, -1.5109, -2.5527]], device='cuda:0')\n",
      "tensor([[ 0.1714, -0.2948,  3.1478, -1.5270, -2.5463]], device='cuda:0')\n",
      "tensor([[ 0.1709, -0.2886,  3.1471, -1.5344, -2.5448]], device='cuda:0')\n",
      "tensor([[-1.1365, -0.1280,  6.4632, -2.5168, -5.3040]], device='cuda:0')\n",
      "tensor([[-1.2918, -0.0773,  6.5486, -2.6154, -5.1948]], device='cuda:0')\n",
      "tensor([[-1.3515, -0.0498,  6.6044, -2.6252, -5.2060]], device='cuda:0')\n",
      "tensor([[-1.3819, -0.0514,  6.6466, -2.6185, -5.2020]], device='cuda:0')\n",
      "tensor([[-1.4343, -0.0826,  6.7132, -2.5644, -5.1352]], device='cuda:0')\n",
      "tensor([[-1.4033, -0.1429,  6.7920, -2.5259, -5.1753]], device='cuda:0')\n",
      "tensor([[-2.3904,  0.3551,  9.4885, -4.3195, -6.4462]], device='cuda:0')\n",
      "tensor([[-2.0724,  0.8457,  7.9708, -3.2945, -5.7597]], device='cuda:0')\n",
      "Exiting AI playing!\n"
     ]
    }
   ],
   "source": [
    "kb.wait('enter')\n",
    "print('Starting AI playing...')\n",
    "\n",
    "with torch.no_grad():\n",
    "    while True:\n",
    "        key = get_pred()\n",
    "\n",
    "        kb.send(key)\n",
    "\n",
    "        if kb.is_pressed('esc'):\n",
    "            print('Exiting AI playing!')\n",
    "            break"
   ]
  }
 ],
 "metadata": {
  "kernelspec": {
   "display_name": "Python 3.9.12 ('behaviourclone')",
   "language": "python",
   "name": "python3"
  },
  "language_info": {
   "codemirror_mode": {
    "name": "ipython",
    "version": 3
   },
   "file_extension": ".py",
   "mimetype": "text/x-python",
   "name": "python",
   "nbconvert_exporter": "python",
   "pygments_lexer": "ipython3",
   "version": "3.9.12"
  },
  "orig_nbformat": 4,
  "vscode": {
   "interpreter": {
    "hash": "81f6084b0e7cce954e108fc0a0391af68c4181771aad5745dbccfd4b74c77fe3"
   }
  }
 },
 "nbformat": 4,
 "nbformat_minor": 2
}
