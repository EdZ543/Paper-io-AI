{
 "cells": [
  {
   "cell_type": "markdown",
   "metadata": {},
   "source": [
    "# Setup\n"
   ]
  },
  {
   "cell_type": "code",
   "execution_count": 20,
   "metadata": {},
   "outputs": [
    {
     "name": "stdout",
     "output_type": "stream",
     "text": [
      "Collecting package metadata (current_repodata.json): ...working... done\n",
      "Solving environment: ...working... done\n",
      "\n",
      "# All requested packages already installed.\n",
      "\n",
      "\n",
      "Note: you may need to restart the kernel to use updated packages.\n",
      "^C\n",
      "\n",
      "Note: you may need to restart the kernel to use updated packages.\n"
     ]
    }
   ],
   "source": [
    "%conda install pytorch torchvision torchaudio cudatoolkit = 11.3 - c pytorch"
   ]
  },
  {
   "cell_type": "code",
   "execution_count": 14,
   "metadata": {},
   "outputs": [
    {
     "name": "stdout",
     "output_type": "stream",
     "text": [
      "Collecting package metadata (current_repodata.json): ...working... done\n",
      "Solving environment: ...working... done\n",
      "\n",
      "## Package Plan ##\n",
      "\n",
      "  environment location: d:\\Users\\zhuan\\anaconda3\\envs\\behaviourclone\n",
      "\n",
      "  added / updated specs:\n",
      "    - matplotlib\n",
      "    - pandas\n",
      "\n",
      "\n",
      "The following NEW packages will be INSTALLED:\n",
      "\n",
      "  brotli             pkgs/main/win-64::brotli-1.0.9-ha925a31_2\n",
      "  cycler             pkgs/main/noarch::cycler-0.11.0-pyhd3eb1b0_0\n",
      "  fonttools          pkgs/main/noarch::fonttools-4.25.0-pyhd3eb1b0_0\n",
      "  icu                pkgs/main/win-64::icu-58.2-ha925a31_3\n",
      "  kiwisolver         pkgs/main/win-64::kiwisolver-1.4.2-py39hd77b12b_0\n",
      "  matplotlib         pkgs/main/win-64::matplotlib-3.5.1-py39haa95532_1\n",
      "  matplotlib-base    pkgs/main/win-64::matplotlib-base-3.5.1-py39hd77b12b_1\n",
      "  munkres            pkgs/main/noarch::munkres-1.1.4-py_0\n",
      "  pyqt               pkgs/main/win-64::pyqt-5.9.2-py39hd77b12b_6\n",
      "  qt                 pkgs/main/win-64::qt-5.9.7-vc14h73c81de_0\n",
      "  sip                pkgs/main/win-64::sip-4.19.13-py39hd77b12b_0\n",
      "\n",
      "\n",
      "Preparing transaction: ...working... done\n",
      "Verifying transaction: ...working... done\n",
      "Executing transaction: ...working... done\n",
      "\n",
      "Note: you may need to restart the kernel to use updated packages.\n"
     ]
    }
   ],
   "source": [
    "%conda install pandas matplotlib"
   ]
  },
  {
   "cell_type": "code",
   "execution_count": 1,
   "metadata": {},
   "outputs": [
    {
     "name": "stdout",
     "output_type": "stream",
     "text": [
      "Collecting wandb\n",
      "  Downloading wandb-0.12.21-py2.py3-none-any.whl (1.8 MB)\n",
      "     ---------------------------------------- 1.8/1.8 MB 9.6 MB/s eta 0:00:00\n",
      "Requirement already satisfied: requests<3,>=2.0.0 in d:\\users\\zhuan\\anaconda3\\envs\\behaviourclone\\lib\\site-packages (from wandb) (2.28.0)\n",
      "Collecting shortuuid>=0.5.0\n",
      "  Downloading shortuuid-1.0.9-py3-none-any.whl (9.4 kB)\n",
      "Requirement already satisfied: psutil>=5.0.0 in d:\\users\\zhuan\\anaconda3\\envs\\behaviourclone\\lib\\site-packages (from wandb) (5.9.1)\n",
      "Requirement already satisfied: six>=1.13.0 in d:\\users\\zhuan\\anaconda3\\envs\\behaviourclone\\lib\\site-packages (from wandb) (1.16.0)\n",
      "Collecting docker-pycreds>=0.4.0\n",
      "  Using cached docker_pycreds-0.4.0-py2.py3-none-any.whl (9.0 kB)\n",
      "Collecting sentry-sdk>=1.0.0\n",
      "  Downloading sentry_sdk-1.7.1-py2.py3-none-any.whl (146 kB)\n",
      "     -------------------------------------- 146.4/146.4 kB 9.1 MB/s eta 0:00:00\n",
      "Collecting GitPython>=1.0.0\n",
      "  Using cached GitPython-3.1.27-py3-none-any.whl (181 kB)\n",
      "Collecting promise<3,>=2.0\n",
      "  Using cached promise-2.3-py3-none-any.whl\n",
      "Collecting pathtools\n",
      "  Using cached pathtools-0.1.2-py3-none-any.whl\n",
      "Collecting setproctitle\n",
      "  Downloading setproctitle-1.2.3-cp39-cp39-win_amd64.whl (10 kB)\n",
      "Requirement already satisfied: setuptools in d:\\users\\zhuan\\anaconda3\\envs\\behaviourclone\\lib\\site-packages (from wandb) (61.2.0)\n",
      "Collecting Click!=8.0.0,>=7.0\n",
      "  Using cached click-8.1.3-py3-none-any.whl (96 kB)\n",
      "Collecting PyYAML\n",
      "  Using cached PyYAML-6.0-cp39-cp39-win_amd64.whl (151 kB)\n",
      "Collecting protobuf<4.0dev,>=3.12.0\n",
      "  Downloading protobuf-3.20.1-cp39-cp39-win_amd64.whl (904 kB)\n",
      "     ------------------------------------- 904.1/904.1 kB 19.0 MB/s eta 0:00:00\n",
      "Requirement already satisfied: colorama in d:\\users\\zhuan\\anaconda3\\envs\\behaviourclone\\lib\\site-packages (from Click!=8.0.0,>=7.0->wandb) (0.4.5)\n",
      "Collecting gitdb<5,>=4.0.1\n",
      "  Using cached gitdb-4.0.9-py3-none-any.whl (63 kB)\n",
      "Requirement already satisfied: idna<4,>=2.5 in c:\\users\\zhuan\\appdata\\roaming\\python\\python39\\site-packages (from requests<3,>=2.0.0->wandb) (3.3)\n",
      "Requirement already satisfied: charset-normalizer~=2.0.0 in d:\\users\\zhuan\\anaconda3\\envs\\behaviourclone\\lib\\site-packages (from requests<3,>=2.0.0->wandb) (2.0.4)\n",
      "Requirement already satisfied: certifi>=2017.4.17 in d:\\users\\zhuan\\anaconda3\\envs\\behaviourclone\\lib\\site-packages (from requests<3,>=2.0.0->wandb) (2022.6.15)\n",
      "Requirement already satisfied: urllib3<1.27,>=1.21.1 in d:\\users\\zhuan\\anaconda3\\envs\\behaviourclone\\lib\\site-packages (from requests<3,>=2.0.0->wandb) (1.26.9)\n",
      "Collecting smmap<6,>=3.0.1\n",
      "  Using cached smmap-5.0.0-py3-none-any.whl (24 kB)\n",
      "Installing collected packages: pathtools, smmap, shortuuid, setproctitle, sentry-sdk, PyYAML, protobuf, promise, docker-pycreds, Click, gitdb, GitPython, wandb\n",
      "Successfully installed Click-8.1.3 GitPython-3.1.27 PyYAML-6.0 docker-pycreds-0.4.0 gitdb-4.0.9 pathtools-0.1.2 promise-2.3 protobuf-3.20.1 sentry-sdk-1.7.1 setproctitle-1.2.3 shortuuid-1.0.9 smmap-5.0.0 wandb-0.12.21\n",
      "Note: you may need to restart the kernel to use updated packages.\n"
     ]
    }
   ],
   "source": [
    "%pip install wandb"
   ]
  },
  {
   "cell_type": "code",
   "execution_count": 11,
   "metadata": {},
   "outputs": [],
   "source": [
    "import os, time, copy\n",
    "import pandas as pd\n",
    "from PIL import Image, ImageFilter\n",
    "import numpy as np\n",
    "import matplotlib.pyplot as plt\n",
    "import wandb\n",
    "\n",
    "import torch\n",
    "import torchvision\n",
    "import torch.nn as nn\n",
    "from torchvision.io import read_image\n",
    "from torch.utils.data import Dataset\n",
    "from torchvision import datasets, transforms, utils, models\n",
    "import torch.optim as optim\n",
    "from torch.optim import lr_scheduler"
   ]
  },
  {
   "cell_type": "code",
   "execution_count": 2,
   "metadata": {},
   "outputs": [],
   "source": [
    "IMG_SIZE = (224, 224)\n",
    "DATA_DIR = 'data'\n",
    "EPOCHS = 25\n",
    "LEARNING_RATE = 0.001\n",
    "MOMENTUM = 0.9\n",
    "STEP_SIZE = 7\n",
    "GAMMA = 0.1"
   ]
  },
  {
   "cell_type": "code",
   "execution_count": 3,
   "metadata": {},
   "outputs": [
    {
     "name": "stderr",
     "output_type": "stream",
     "text": [
      "Failed to detect the name of this notebook, you can set it manually with the WANDB_NOTEBOOK_NAME environment variable to enable code saving.\n",
      "\u001b[34m\u001b[1mwandb\u001b[0m: Currently logged in as: \u001b[33meddiezhuang\u001b[0m. Use \u001b[1m`wandb login --relogin`\u001b[0m to force relogin\n"
     ]
    },
    {
     "data": {
      "text/plain": [
       "True"
      ]
     },
     "execution_count": 3,
     "metadata": {},
     "output_type": "execute_result"
    }
   ],
   "source": [
    "wandb.login()"
   ]
  },
  {
   "cell_type": "code",
   "execution_count": 4,
   "metadata": {},
   "outputs": [
    {
     "data": {
      "text/html": [
       "Tracking run with wandb version 0.12.21"
      ],
      "text/plain": [
       "<IPython.core.display.HTML object>"
      ]
     },
     "metadata": {},
     "output_type": "display_data"
    },
    {
     "data": {
      "text/html": [
       "Run data is saved locally in <code>d:\\Users\\zhuan\\GeekyStuff\\Python\\Paper-io-AI\\wandb\\run-20220713_165015-1qn7lsk7</code>"
      ],
      "text/plain": [
       "<IPython.core.display.HTML object>"
      ]
     },
     "metadata": {},
     "output_type": "display_data"
    },
    {
     "data": {
      "text/html": [
       "Syncing run <strong><a href=\"https://wandb.ai/eddiezhuang/paper-io-ai/runs/1qn7lsk7\" target=\"_blank\">mild-shape-6</a></strong> to <a href=\"https://wandb.ai/eddiezhuang/paper-io-ai\" target=\"_blank\">Weights & Biases</a> (<a href=\"https://wandb.me/run\" target=\"_blank\">docs</a>)<br/>"
      ],
      "text/plain": [
       "<IPython.core.display.HTML object>"
      ]
     },
     "metadata": {},
     "output_type": "display_data"
    },
    {
     "data": {
      "text/html": [
       "<button onClick=\"this.nextSibling.style.display='block';this.style.display='none';\">Display W&B run</button><iframe src=\"https://wandb.ai/eddiezhuang/paper-io-ai/runs/1qn7lsk7?jupyter=true\" style=\"border:none;width:100%;height:420px;display:none;\"></iframe>"
      ],
      "text/plain": [
       "<wandb.sdk.wandb_run.Run at 0x2286e318670>"
      ]
     },
     "execution_count": 4,
     "metadata": {},
     "output_type": "execute_result"
    }
   ],
   "source": [
    "wandb.init(project=\"paper-io-ai\", config={\n",
    "    \"epochs\": EPOCHS,\n",
    "    \"learning_rate\": LEARNING_RATE,\n",
    "    \"momentum\": MOMENTUM,\n",
    "    \"step_size\": STEP_SIZE,\n",
    "    \"gamma\": GAMMA\n",
    "})"
   ]
  },
  {
   "cell_type": "markdown",
   "metadata": {},
   "source": [
    "# Load Data\n"
   ]
  },
  {
   "cell_type": "code",
   "execution_count": 18,
   "metadata": {},
   "outputs": [
    {
     "data": {
      "text/plain": [
       "'NVIDIA GeForce GTX 1650'"
      ]
     },
     "execution_count": 18,
     "metadata": {},
     "output_type": "execute_result"
    }
   ],
   "source": [
    "data_transforms = transforms.Compose([\n",
    "    transforms.Resize(IMG_SIZE),\n",
    "    transforms.ToTensor(),\n",
    "    transforms.Normalize([0.485], [0.229])\n",
    "])\n",
    "\n",
    "data = datasets.ImageFolder(DATA_DIR, data_transforms)\n",
    "\n",
    "train_size = int(0.8 * len(data))\n",
    "val_size = len(data) - train_size\n",
    "\n",
    "train_data, val_data = torch.utils.data.random_split(\n",
    "    data, [train_size, val_size])\n",
    "image_datasets = {\n",
    "    'train': train_data,\n",
    "    'val': val_data\n",
    "}\n",
    "dataloaders = {x: torch.utils.data.DataLoader(image_datasets[x], batch_size=4,\n",
    "                                              shuffle=True, num_workers=4) for x in ['train', 'val']}\n",
    "dataset_sizes = {x: len(image_datasets[x]) for x in ['train', 'val']}\n",
    "class_names = data.classes\n",
    "\n",
    "device = torch.device(\"cuda:0\")\n",
    "torch.cuda.get_device_name(device)"
   ]
  },
  {
   "cell_type": "markdown",
   "metadata": {},
   "source": [
    "# Visualize Images"
   ]
  },
  {
   "cell_type": "code",
   "execution_count": 6,
   "metadata": {},
   "outputs": [
    {
     "data": {
      "image/png": "[encoded data removed]",
      "text/plain": [
       "<Figure size 432x288 with 1 Axes>"
      ]
     },
     "metadata": {
      "needs_background": "light"
     },
     "output_type": "display_data"
    }
   ],
   "source": [
    "def imshow(inp, title=None):\n",
    "    \"\"\"Imshow for Tensor.\"\"\"\n",
    "    inp = inp.numpy().transpose((1, 2, 0))\n",
    "    mean = np.array([0.485])\n",
    "    std = np.array([0.229])\n",
    "    inp = std * inp + mean\n",
    "    inp = np.clip(inp, 0, 1)\n",
    "    plt.imshow(inp)\n",
    "    if title is not None:\n",
    "        plt.title(title)\n",
    "    plt.pause(0.001)  # pause a bit so that plots are updated\n",
    "\n",
    "\n",
    "# Get a batch of training data\n",
    "inputs, classes = next(iter(dataloaders['train']))\n",
    "\n",
    "# Make a grid from batch\n",
    "out = torchvision.utils.make_grid(inputs)\n",
    "\n",
    "imshow(out, title=[class_names[x] for x in classes])"
   ]
  },
  {
   "cell_type": "markdown",
   "metadata": {},
   "source": [
    "# Train Model\n"
   ]
  },
  {
   "cell_type": "code",
   "execution_count": 12,
   "metadata": {},
   "outputs": [],
   "source": [
    "def train_model(model, criterion, optimizer, scheduler, num_epochs=EPOCHS):\n",
    "    wandb.watch(model, log_freq=100)\n",
    "\n",
    "    since = time.time()\n",
    "    best_model_wts = copy.deepcopy(model.state_dict())\n",
    "    best_acc = 0.0\n",
    "\n",
    "    for epoch in range(num_epochs):\n",
    "        print(f\"Epoch {epoch + 1}/{num_epochs}\")\n",
    "        print('-' * 10)\n",
    "\n",
    "        for phase in ['train', 'val']:\n",
    "            if phase == 'train':\n",
    "                model.train()\n",
    "            else:\n",
    "                model.eval()\n",
    "\n",
    "            running_loss = 0.0\n",
    "            running_corrects = 0\n",
    "\n",
    "            for inputs, labels in dataloaders[phase]:\n",
    "                inputs = inputs.to(device) # load data to GPU\n",
    "                labels = labels.to(device)\n",
    "\n",
    "                optimizer.zero_grad() # clear gradients for this training step\n",
    "\n",
    "                with torch.set_grad_enabled(phase == 'train'):\n",
    "                    # Calculate loss\n",
    "                    outputs = model(inputs)\n",
    "                    _, preds = torch.max(outputs, 1)\n",
    "                    loss = criterion(outputs, labels)\n",
    "\n",
    "                    if phase == 'train':\n",
    "                        loss.backward()\n",
    "                        optimizer.step()\n",
    "\n",
    "                running_loss += loss.item() * inputs.size(0)\n",
    "                running_corrects += torch.sum(preds == labels.data)\n",
    "            if phase == 'train':\n",
    "                scheduler.step()\n",
    "\n",
    "            epoch_loss = running_loss / dataset_sizes[phase]\n",
    "            epoch_acc = running_corrects.double() / dataset_sizes[phase]\n",
    "\n",
    "            print(f'{phase} Loss: {epoch_loss:.4f} Acc: {epoch_acc:.4f}')\n",
    "            wandb.log({\"loss\": epoch_loss, \"acc\": epoch_acc})\n",
    "\n",
    "            # save the model if it is the best so far\n",
    "            if phase == 'val' and epoch_acc > best_acc:\n",
    "                best_acc = epoch_acc\n",
    "                best_model_wts = copy.deepcopy(model.state_dict())\n",
    "        \n",
    "        print()\n",
    "    \n",
    "    time_elapsed = time.time() - since\n",
    "    print(f'Training complete in {time_elapsed // 60:.0f}m {time_elapsed % 60:.0f}s')\n",
    "    print(f'Best val Acc: {best_acc:4f}')\n",
    "    wandb.log({\"best_acc\": best_acc})\n",
    "\n",
    "    model.load_state_dict(best_model_wts)\n",
    "    return model"
   ]
  },
  {
   "cell_type": "code",
   "execution_count": 13,
   "metadata": {},
   "outputs": [],
   "source": [
    "model_ft = models.resnet18(pretrained=True)\n",
    "num_ftrs = model_ft.fc.in_features\n",
    "\n",
    "model_ft.fc = nn.Linear(num_ftrs, len(class_names))\n",
    "\n",
    "model_df = model_ft.to(device)\n",
    "\n",
    "criterion = nn.CrossEntropyLoss()\n",
    "\n",
    "optimizer_ft = optim.SGD(model_ft.parameters(), lr=LEARNING_RATE, momentum=MOMENTUM)\n",
    "\n",
    "exp_lr_scheduler = lr_scheduler.StepLR(optimizer_ft, step_size=STEP_SIZE, gamma=GAMMA)"
   ]
  },
  {
   "cell_type": "code",
   "execution_count": 19,
   "metadata": {},
   "outputs": [
    {
     "name": "stdout",
     "output_type": "stream",
     "text": [
      "Epoch 1/25\n",
      "----------\n",
      "train Loss: 0.6687 Acc: 0.8493\n",
      "val Loss: 0.6187 Acc: 0.8703\n",
      "\n",
      "Epoch 2/25\n",
      "----------\n",
      "train Loss: 0.5772 Acc: 0.8435\n",
      "val Loss: 0.5935 Acc: 0.8410\n",
      "\n",
      "Epoch 3/25\n",
      "----------\n",
      "train Loss: 0.4948 Acc: 0.8498\n",
      "val Loss: 0.4480 Acc: 0.8452\n",
      "\n",
      "Epoch 4/25\n",
      "----------\n",
      "train Loss: 0.3854 Acc: 0.8587\n",
      "val Loss: 0.4900 Acc: 0.8138\n",
      "\n",
      "Epoch 5/25\n",
      "----------\n",
      "train Loss: 0.3126 Acc: 0.8807\n",
      "val Loss: 0.3980 Acc: 0.8598\n",
      "\n",
      "Epoch 6/25\n",
      "----------\n",
      "train Loss: 0.2756 Acc: 0.8943\n",
      "val Loss: 0.3878 Acc: 0.8473\n",
      "\n",
      "Epoch 7/25\n",
      "----------\n",
      "train Loss: 0.2114 Acc: 0.9158\n",
      "val Loss: 0.4755 Acc: 0.8285\n",
      "\n",
      "Epoch 8/25\n",
      "----------\n",
      "train Loss: 0.1418 Acc: 0.9419\n",
      "val Loss: 0.3583 Acc: 0.8577\n",
      "\n",
      "Epoch 9/25\n",
      "----------\n",
      "train Loss: 0.1057 Acc: 0.9639\n",
      "val Loss: 0.3235 Acc: 0.8787\n",
      "\n",
      "Epoch 10/25\n",
      "----------\n",
      "train Loss: 0.0808 Acc: 0.9681\n",
      "val Loss: 0.3129 Acc: 0.8703\n",
      "\n",
      "Epoch 11/25\n",
      "----------\n",
      "train Loss: 0.0744 Acc: 0.9728\n",
      "val Loss: 0.3201 Acc: 0.8682\n",
      "\n",
      "Epoch 12/25\n",
      "----------\n",
      "train Loss: 0.0645 Acc: 0.9822\n",
      "val Loss: 0.3683 Acc: 0.8577\n",
      "\n",
      "Epoch 13/25\n",
      "----------\n",
      "train Loss: 0.0573 Acc: 0.9859\n",
      "val Loss: 0.3222 Acc: 0.8640\n",
      "\n",
      "Epoch 14/25\n",
      "----------\n",
      "train Loss: 0.0589 Acc: 0.9806\n",
      "val Loss: 0.3852 Acc: 0.8598\n",
      "\n",
      "Epoch 15/25\n",
      "----------\n",
      "train Loss: 0.0577 Acc: 0.9838\n",
      "val Loss: 0.3694 Acc: 0.8640\n",
      "\n",
      "Epoch 16/25\n",
      "----------\n",
      "train Loss: 0.0490 Acc: 0.9911\n",
      "val Loss: 0.3408 Acc: 0.8682\n",
      "\n",
      "Epoch 17/25\n",
      "----------\n",
      "train Loss: 0.0496 Acc: 0.9864\n",
      "val Loss: 0.3377 Acc: 0.8724\n",
      "\n",
      "Epoch 18/25\n",
      "----------\n",
      "train Loss: 0.0519 Acc: 0.9827\n",
      "val Loss: 0.3229 Acc: 0.8766\n",
      "\n",
      "Epoch 19/25\n",
      "----------\n",
      "train Loss: 0.0551 Acc: 0.9864\n",
      "val Loss: 0.3702 Acc: 0.8577\n",
      "\n",
      "Epoch 20/25\n",
      "----------\n",
      "train Loss: 0.0453 Acc: 0.9906\n",
      "val Loss: 0.3385 Acc: 0.8640\n",
      "\n",
      "Epoch 21/25\n",
      "----------\n",
      "train Loss: 0.0517 Acc: 0.9864\n",
      "val Loss: 0.3681 Acc: 0.8598\n",
      "\n",
      "Epoch 22/25\n",
      "----------\n",
      "train Loss: 0.0518 Acc: 0.9901\n",
      "val Loss: 0.3495 Acc: 0.8703\n",
      "\n",
      "Epoch 23/25\n",
      "----------\n",
      "train Loss: 0.0415 Acc: 0.9911\n",
      "val Loss: 0.3373 Acc: 0.8724\n",
      "\n",
      "Epoch 24/25\n",
      "----------\n",
      "train Loss: 0.0416 Acc: 0.9906\n",
      "val Loss: 0.3463 Acc: 0.8640\n",
      "\n",
      "Epoch 25/25\n",
      "----------\n",
      "train Loss: 0.0446 Acc: 0.9916\n",
      "val Loss: 0.3538 Acc: 0.8661\n",
      "\n",
      "Training complete in 16m 57s\n",
      "Best val Acc: 0.878661\n"
     ]
    }
   ],
   "source": [
    "model_ft = train_model(model_ft, criterion, optimizer_ft, exp_lr_scheduler, EPOCHS)"
   ]
  },
  {
   "cell_type": "markdown",
   "metadata": {},
   "source": [
    "# Visualize Model Predictions"
   ]
  },
  {
   "cell_type": "code",
   "execution_count": 29,
   "metadata": {},
   "outputs": [],
   "source": [
    "def visualize_model(model, num_images=6):\n",
    "    \"\"\"Shows predictions for a few images\"\"\"\n",
    "    was_training = model.training\n",
    "    model.eval()\n",
    "    images_so_far = 0\n",
    "    fig = plt.figure()\n",
    "\n",
    "    with torch.no_grad(): # Reduces memory consumption for inference\n",
    "        for i, (inputs, labels) in enumerate(dataloaders['val']):\n",
    "            inputs = inputs.to(device)\n",
    "            labels = labels.to(device)\n",
    "\n",
    "            outputs = model(inputs)\n",
    "            _, preds = torch.max(outputs, 1) # Returns the max output\n",
    "\n",
    "            for j in range(inputs.size()[0]):\n",
    "                images_so_far += 1\n",
    "\n",
    "                # // divides and only keeps the integer part\n",
    "                ax = plt.subplot(num_images//2, 2, images_so_far)\n",
    "                ax.axis('off')\n",
    "                ax.set_title(f'predicted: {class_names[preds[j]]}')\n",
    "                imshow(inputs.cpu().data[j])\n",
    "\n",
    "                if images_so_far == num_images:\n",
    "                    model.train(mode=was_training)\n",
    "                    return\n",
    "        model.train(mode=was_training)"
   ]
  },
  {
   "cell_type": "code",
   "execution_count": 30,
   "metadata": {},
   "outputs": [
    {
     "data": {
      "image/png": "[encoded data removed]",
      "text/plain": [
       "<Figure size 432x288 with 1 Axes>"
      ]
     },
     "metadata": {
      "needs_background": "light"
     },
     "output_type": "display_data"
    },
    {
     "data": {
      "image/png": "[encoded data removed]",
      "text/plain": [
       "<Figure size 432x288 with 1 Axes>"
      ]
     },
     "metadata": {
      "needs_background": "light"
     },
     "output_type": "display_data"
    },
    {
     "data": {
      "image/png": "[encoded data removed]",
      "text/plain": [
       "<Figure size 432x288 with 1 Axes>"
      ]
     },
     "metadata": {
      "needs_background": "light"
     },
     "output_type": "display_data"
    },
    {
     "data": {
      "image/png": "[encoded data removed]",
      "text/plain": [
       "<Figure size 432x288 with 1 Axes>"
      ]
     },
     "metadata": {
      "needs_background": "light"
     },
     "output_type": "display_data"
    },
    {
     "data": {
      "image/png": "[encoded data removed]",
      "text/plain": [
       "<Figure size 432x288 with 1 Axes>"
      ]
     },
     "metadata": {
      "needs_background": "light"
     },
     "output_type": "display_data"
    },
    {
     "data": {
      "image/png": "[encoded data removed]",
      "text/plain": [
       "<Figure size 432x288 with 1 Axes>"
      ]
     },
     "metadata": {
      "needs_background": "light"
     },
     "output_type": "display_data"
    }
   ],
   "source": [
    "visualize_model(model_ft)"
   ]
  },
  {
   "cell_type": "markdown",
   "metadata": {},
   "source": [
    "# Save Model\n"
   ]
  },
  {
   "cell_type": "code",
   "execution_count": 31,
   "metadata": {},
   "outputs": [],
   "source": [
    "torch.save(model_ft.state_dict(), os.path.join(wandb.run.dir, 'model.pth'))"
   ]
  },
  {
   "cell_type": "code",
   "execution_count": 33,
   "metadata": {},
   "outputs": [
    {
     "data": {
      "text/html": [
       "Waiting for W&B process to finish... <strong style=\"color:green\">(success).</strong>"
      ],
      "text/plain": [
       "<IPython.core.display.HTML object>"
      ]
     },
     "metadata": {},
     "output_type": "display_data"
    },
    {
     "data": {
      "text/html": [
       "<style>\n",
       "    table.wandb td:nth-child(1) { padding: 0 10px; text-align: left ; width: auto;} td:nth-child(2) {text-align: left ; width: 100%}\n",
       "    .wandb-row { display: flex; flex-direction: row; flex-wrap: wrap; justify-content: flex-start; width: 100% }\n",
       "    .wandb-col { display: flex; flex-direction: column; flex-basis: 100%; flex: 1; padding: 10px; }\n",
       "    </style>\n",
       "<div class=\"wandb-row\"><div class=\"wandb-col\"><h3>Run history:</h3><br/><table class=\"wandb\"><tr><td>acc</td><td>▂▃▂▃▂▂▂▁▄▃▂▅▂▃▇▄▇▇▃██▃██▃██▃█▃▃█▃▃█▃▃█▃▃</td></tr><tr><td>best_acc</td><td>▁</td></tr><tr><td>loss</td><td>█▇█▇▇▆▅▆▄▅▅▃▆▄▂▄▁▁▄▁▁▄▁▁▅▁▁▄▁▄▅▁▄▅▁▄▄▁▄▄</td></tr></table><br/></div><div class=\"wandb-col\"><h3>Run summary:</h3><br/><table class=\"wandb\"><tr><td>acc</td><td>0.86611</td></tr><tr><td>best_acc</td><td>0.87866</td></tr><tr><td>loss</td><td>0.35378</td></tr></table><br/></div></div>"
      ],
      "text/plain": [
       "<IPython.core.display.HTML object>"
      ]
     },
     "metadata": {},
     "output_type": "display_data"
    },
    {
     "data": {
      "text/html": [
       "Synced <strong style=\"color:#cdcd00\">mild-shape-6</strong>: <a href=\"https://wandb.ai/eddiezhuang/paper-io-ai/runs/1qn7lsk7\" target=\"_blank\">https://wandb.ai/eddiezhuang/paper-io-ai/runs/1qn7lsk7</a><br/>Synced 6 W&B file(s), 0 media file(s), 0 artifact file(s) and 1 other file(s)"
      ],
      "text/plain": [
       "<IPython.core.display.HTML object>"
      ]
     },
     "metadata": {},
     "output_type": "display_data"
    },
    {
     "data": {
      "text/html": [
       "Find logs at: <code>.\\wandb\\run-20220713_165015-1qn7lsk7\\logs</code>"
      ],
      "text/plain": [
       "<IPython.core.display.HTML object>"
      ]
     },
     "metadata": {},
     "output_type": "display_data"
    }
   ],
   "source": [
    "wandb.finish()"
   ]
  }
 ],
 "metadata": {
  "kernelspec": {
   "display_name": "Python 3.9.12 ('behaviourclone')",
   "language": "python",
   "name": "python3"
  },
  "language_info": {
   "codemirror_mode": {
    "name": "ipython",
    "version": 3
   },
   "file_extension": ".py",
   "mimetype": "text/x-python",
   "name": "python",
   "nbconvert_exporter": "python",
   "pygments_lexer": "ipython3",
   "version": "3.9.12"
  },
  "orig_nbformat": 4,
  "vscode": {
   "interpreter": {
    "hash": "81f6084b0e7cce954e108fc0a0391af68c4181771aad5745dbccfd4b74c77fe3"
   }
  }
 },
 "nbformat": 4,
 "nbformat_minor": 2
}
