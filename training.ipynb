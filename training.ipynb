{
 "cells": [
  {
   "cell_type": "markdown",
   "metadata": {},
   "source": [
    "# Setup\n"
   ]
  },
  {
   "cell_type": "code",
   "execution_count": 2,
   "metadata": {},
   "outputs": [
    {
     "name": "stdout",
     "output_type": "stream",
     "text": [
      "(1019, 26)\n"
     ]
    }
   ],
   "source": [
    "import os, time, copy\n",
    "import pandas as pd\n",
    "from PIL import Image, ImageFilter\n",
    "import numpy as np\n",
    "import matplotlib.pyplot as plt\n",
    "import wandb\n",
    "\n",
    "import torch\n",
    "import torchvision\n",
    "import torch.nn as nn\n",
    "from torchvision.io import read_image\n",
    "from torch.utils.data import Dataset\n",
    "from torchvision import datasets, transforms, utils, models\n",
    "import torch.optim as optim\n",
    "from torch.optim import lr_scheduler\n",
    "import ipynb.fs.full.shared_utilities as su"
   ]
  },
  {
   "cell_type": "code",
   "execution_count": 3,
   "metadata": {},
   "outputs": [],
   "source": [
    "DATA_DIR = 'data'\n",
    "EPOCHS = 25\n",
    "LEARNING_RATE = 0.001\n",
    "MOMENTUM = 0.9\n",
    "STEP_SIZE = 7\n",
    "GAMMA = 0.1"
   ]
  },
  {
   "cell_type": "code",
   "execution_count": 3,
   "metadata": {},
   "outputs": [
    {
     "name": "stderr",
     "output_type": "stream",
     "text": [
      "Failed to detect the name of this notebook, you can set it manually with the WANDB_NOTEBOOK_NAME environment variable to enable code saving.\n",
      "\u001b[34m\u001b[1mwandb\u001b[0m: Currently logged in as: \u001b[33meddiezhuang\u001b[0m. Use \u001b[1m`wandb login --relogin`\u001b[0m to force relogin\n"
     ]
    },
    {
     "data": {
      "text/plain": [
       "True"
      ]
     },
     "execution_count": 3,
     "metadata": {},
     "output_type": "execute_result"
    }
   ],
   "source": [
    "wandb.login()"
   ]
  },
  {
   "cell_type": "code",
   "execution_count": 16,
   "metadata": {},
   "outputs": [
    {
     "data": {
      "text/html": [
       "Tracking run with wandb version 0.12.21"
      ],
      "text/plain": [
       "<IPython.core.display.HTML object>"
      ]
     },
     "metadata": {},
     "output_type": "display_data"
    },
    {
     "data": {
      "text/html": [
       "Run data is saved locally in <code>d:\\Users\\zhuan\\GeekyStuff\\Python\\Paper-io-AI\\wandb\\run-20220713_204409-1o0dyh11</code>"
      ],
      "text/plain": [
       "<IPython.core.display.HTML object>"
      ]
     },
     "metadata": {},
     "output_type": "display_data"
    },
    {
     "data": {
      "text/html": [
       "Syncing run <strong><a href=\"https://wandb.ai/eddiezhuang/paper-io-ai/runs/1o0dyh11\" target=\"_blank\">wandering-jazz-8</a></strong> to <a href=\"https://wandb.ai/eddiezhuang/paper-io-ai\" target=\"_blank\">Weights & Biases</a> (<a href=\"https://wandb.me/run\" target=\"_blank\">docs</a>)<br/>"
      ],
      "text/plain": [
       "<IPython.core.display.HTML object>"
      ]
     },
     "metadata": {},
     "output_type": "display_data"
    },
    {
     "data": {
      "text/html": [
       "<button onClick=\"this.nextSibling.style.display='block';this.style.display='none';\">Display W&B run</button><iframe src=\"https://wandb.ai/eddiezhuang/paper-io-ai/runs/1o0dyh11?jupyter=true\" style=\"border:none;width:100%;height:420px;display:none;\"></iframe>"
      ],
      "text/plain": [
       "<wandb.sdk.wandb_run.Run at 0x14c10f584f0>"
      ]
     },
     "execution_count": 16,
     "metadata": {},
     "output_type": "execute_result"
    }
   ],
   "source": [
    "wandb.init(project=\"paper-io-ai\", config={\n",
    "    \"epochs\": EPOCHS,\n",
    "    \"learning_rate\": LEARNING_RATE,\n",
    "    \"momentum\": MOMENTUM,\n",
    "    \"step_size\": STEP_SIZE,\n",
    "    \"gamma\": GAMMA\n",
    "})"
   ]
  },
  {
   "cell_type": "markdown",
   "metadata": {},
   "source": [
    "# Load Data\n"
   ]
  },
  {
   "cell_type": "code",
   "execution_count": 4,
   "metadata": {},
   "outputs": [
    {
     "ename": "AttributeError",
     "evalue": "module 'ipynb.fs.full.shared_utilities' has no attribute 'data_transform'",
     "output_type": "error",
     "traceback": [
      "\u001b[1;31m---------------------------------------------------------------------------\u001b[0m",
      "\u001b[1;31mAttributeError\u001b[0m                            Traceback (most recent call last)",
      "\u001b[1;32md:\\Users\\zhuan\\GeekyStuff\\Python\\Paper-io-AI\\training.ipynb Cell 10\u001b[0m in \u001b[0;36m<cell line: 1>\u001b[1;34m()\u001b[0m\n\u001b[1;32m----> <a href='vscode-notebook-cell:/d%3A/Users/zhuan/GeekyStuff/Python/Paper-io-AI/training.ipynb#ch0000009?line=0'>1</a>\u001b[0m data \u001b[39m=\u001b[39m datasets\u001b[39m.\u001b[39mImageFolder(DATA_DIR, su\u001b[39m.\u001b[39;49mdata_transform)\n\u001b[0;32m      <a href='vscode-notebook-cell:/d%3A/Users/zhuan/GeekyStuff/Python/Paper-io-AI/training.ipynb#ch0000009?line=2'>3</a>\u001b[0m train_size \u001b[39m=\u001b[39m \u001b[39mint\u001b[39m(\u001b[39m0.8\u001b[39m \u001b[39m*\u001b[39m \u001b[39mlen\u001b[39m(data))\n\u001b[0;32m      <a href='vscode-notebook-cell:/d%3A/Users/zhuan/GeekyStuff/Python/Paper-io-AI/training.ipynb#ch0000009?line=3'>4</a>\u001b[0m val_size \u001b[39m=\u001b[39m \u001b[39mlen\u001b[39m(data) \u001b[39m-\u001b[39m train_size\n",
      "\u001b[1;31mAttributeError\u001b[0m: module 'ipynb.fs.full.shared_utilities' has no attribute 'data_transform'"
     ]
    }
   ],
   "source": [
    "data_transform = transforms.Compose([\n",
    "    transforms.Resize((224, 224)),\n",
    "    transforms.ToTensor(),\n",
    "    transforms.Normalize([0.485], [0.229])\n",
    "])\n",
    "\n",
    "data = datasets.ImageFolder(DATA_DIR, data_transform)\n",
    "\n",
    "train_size = int(0.8 * len(data))\n",
    "val_size = len(data) - train_size\n",
    "\n",
    "train_data, val_data = torch.utils.data.random_split(\n",
    "    data, [train_size, val_size])\n",
    "image_datasets = {\n",
    "    'train': train_data,\n",
    "    'val': val_data\n",
    "}\n",
    "dataloaders = {x: torch.utils.data.DataLoader(image_datasets[x], batch_size=4,\n",
    "                                              shuffle=True, num_workers=4) for x in ['train', 'val']}\n",
    "dataset_sizes = {x: len(image_datasets[x]) for x in ['train', 'val']}\n",
    "class_names = data.classes\n",
    "\n",
    "device = torch.device(\"cuda:0\")\n",
    "torch.cuda.get_device_name(device)"
   ]
  },
  {
   "cell_type": "markdown",
   "metadata": {},
   "source": [
    "# Visualize Images"
   ]
  },
  {
   "cell_type": "code",
   "execution_count": 6,
   "metadata": {},
   "outputs": [
    {
     "data": {
      "image/png": "[encoded data removed]",
      "text/plain": [
       "<Figure size 432x288 with 1 Axes>"
      ]
     },
     "metadata": {
      "needs_background": "light"
     },
     "output_type": "display_data"
    }
   ],
   "source": [
    "def imshow(inp, title=None):\n",
    "    \"\"\"Imshow for Tensor.\"\"\"\n",
    "    inp = inp.numpy().transpose((1, 2, 0))\n",
    "    mean = np.array([0.485])\n",
    "    std = np.array([0.229])\n",
    "    inp = std * inp + mean\n",
    "    inp = np.clip(inp, 0, 1)\n",
    "    plt.imshow(inp)\n",
    "    if title is not None:\n",
    "        plt.title(title)\n",
    "    plt.pause(0.001)  # pause a bit so that plots are updated\n",
    "\n",
    "\n",
    "# Get a batch of training data\n",
    "inputs, classes = next(iter(dataloaders['train']))\n",
    "\n",
    "# Make a grid from batch\n",
    "out = torchvision.utils.make_grid(inputs)\n",
    "\n",
    "imshow(out, title=[class_names[x] for x in classes])"
   ]
  },
  {
   "cell_type": "markdown",
   "metadata": {},
   "source": [
    "# Train Model\n"
   ]
  },
  {
   "cell_type": "code",
   "execution_count": 7,
   "metadata": {},
   "outputs": [],
   "source": [
    "def train_model(model, criterion, optimizer, scheduler, num_epochs=EPOCHS):\n",
    "    wandb.watch(model, log_freq=100)\n",
    "\n",
    "    since = time.time()\n",
    "    best_model_wts = copy.deepcopy(model.state_dict())\n",
    "    best_acc = 0.0\n",
    "\n",
    "    for epoch in range(num_epochs):\n",
    "        print(f\"Epoch {epoch + 1}/{num_epochs}\")\n",
    "        print('-' * 10)\n",
    "\n",
    "        for phase in ['train', 'val']:\n",
    "            if phase == 'train':\n",
    "                model.train()\n",
    "            else:\n",
    "                model.eval()\n",
    "\n",
    "            running_loss = 0.0\n",
    "            running_corrects = 0\n",
    "\n",
    "            for inputs, labels in dataloaders[phase]:\n",
    "                inputs = inputs.to(device) # load data to GPU\n",
    "                labels = labels.to(device)\n",
    "\n",
    "                optimizer.zero_grad() # clear gradients for this training step\n",
    "\n",
    "                with torch.set_grad_enabled(phase == 'train'):\n",
    "                    # Calculate loss\n",
    "                    outputs = model(inputs)\n",
    "                    _, preds = torch.max(outputs, 1)\n",
    "                    loss = criterion(outputs, labels)\n",
    "\n",
    "                    if phase == 'train':\n",
    "                        loss.backward()\n",
    "                        optimizer.step()\n",
    "\n",
    "                running_loss += loss.item() * inputs.size(0)\n",
    "                running_corrects += torch.sum(preds == labels.data)\n",
    "            if phase == 'train':\n",
    "                scheduler.step()\n",
    "\n",
    "            epoch_loss = running_loss / dataset_sizes[phase]\n",
    "            epoch_acc = running_corrects.double() / dataset_sizes[phase]\n",
    "\n",
    "            print(f'{phase} Loss: {epoch_loss:.4f} Acc: {epoch_acc:.4f}')\n",
    "            wandb.log({\"loss\": epoch_loss, \"acc\": epoch_acc})\n",
    "\n",
    "            # save the model if it is the best so far\n",
    "            if phase == 'val' and epoch_acc > best_acc:\n",
    "                best_acc = epoch_acc\n",
    "                best_model_wts = copy.deepcopy(model.state_dict())\n",
    "        \n",
    "        print()\n",
    "    \n",
    "    time_elapsed = time.time() - since\n",
    "    print(f'Training complete in {time_elapsed // 60:.0f}m {time_elapsed % 60:.0f}s')\n",
    "    print(f'Best val Acc: {best_acc:4f}')\n",
    "    wandb.log({\"best_acc\": best_acc})\n",
    "\n",
    "    model.load_state_dict(best_model_wts)\n",
    "    return model"
   ]
  },
  {
   "cell_type": "code",
   "execution_count": 8,
   "metadata": {},
   "outputs": [],
   "source": [
    "model_ft = models.resnet18(pretrained=True)\n",
    "num_ftrs = model_ft.fc.in_features\n",
    "\n",
    "model_ft.fc = nn.Linear(num_ftrs, len(class_names))\n",
    "\n",
    "model_df = model_ft.to(device)\n",
    "\n",
    "criterion = nn.CrossEntropyLoss()\n",
    "\n",
    "optimizer_ft = optim.SGD(model_ft.parameters(), lr=LEARNING_RATE, momentum=MOMENTUM)\n",
    "\n",
    "exp_lr_scheduler = lr_scheduler.StepLR(optimizer_ft, step_size=STEP_SIZE, gamma=GAMMA)"
   ]
  },
  {
   "cell_type": "code",
   "execution_count": 9,
   "metadata": {},
   "outputs": [
    {
     "name": "stdout",
     "output_type": "stream",
     "text": [
      "Epoch 1/25\n",
      "----------\n",
      "train Loss: 0.6836 Acc: 0.8498\n",
      "val Loss: 0.5514 Acc: 0.8598\n",
      "\n",
      "Epoch 2/25\n",
      "----------\n",
      "train Loss: 0.5560 Acc: 0.8514\n",
      "val Loss: 0.4994 Acc: 0.8640\n",
      "\n",
      "Epoch 3/25\n",
      "----------\n",
      "train Loss: 0.4738 Acc: 0.8493\n",
      "val Loss: 0.5855 Acc: 0.7971\n",
      "\n",
      "Epoch 4/25\n",
      "----------\n",
      "train Loss: 0.3830 Acc: 0.8692\n",
      "val Loss: 0.4832 Acc: 0.8431\n",
      "\n",
      "Epoch 5/25\n",
      "----------\n",
      "train Loss: 0.3155 Acc: 0.8849\n",
      "val Loss: 0.4030 Acc: 0.8787\n",
      "\n",
      "Epoch 6/25\n",
      "----------\n",
      "train Loss: 0.2940 Acc: 0.8917\n",
      "val Loss: 0.5868 Acc: 0.7887\n",
      "\n",
      "Epoch 7/25\n",
      "----------\n",
      "train Loss: 0.2454 Acc: 0.9063\n",
      "val Loss: 0.4240 Acc: 0.8556\n",
      "\n",
      "Epoch 8/25\n",
      "----------\n",
      "train Loss: 0.1505 Acc: 0.9403\n",
      "val Loss: 0.3879 Acc: 0.8682\n",
      "\n",
      "Epoch 9/25\n",
      "----------\n",
      "train Loss: 0.1097 Acc: 0.9613\n",
      "val Loss: 0.3721 Acc: 0.8912\n",
      "\n",
      "Epoch 10/25\n",
      "----------\n",
      "train Loss: 0.0908 Acc: 0.9728\n",
      "val Loss: 0.3673 Acc: 0.8870\n",
      "\n",
      "Epoch 11/25\n",
      "----------\n",
      "train Loss: 0.0906 Acc: 0.9676\n",
      "val Loss: 0.3594 Acc: 0.8870\n",
      "\n",
      "Epoch 12/25\n",
      "----------\n",
      "train Loss: 0.0709 Acc: 0.9785\n",
      "val Loss: 0.3625 Acc: 0.8975\n",
      "\n",
      "Epoch 13/25\n",
      "----------\n",
      "train Loss: 0.0623 Acc: 0.9864\n",
      "val Loss: 0.3655 Acc: 0.8933\n",
      "\n",
      "Epoch 14/25\n",
      "----------\n",
      "train Loss: 0.0600 Acc: 0.9848\n",
      "val Loss: 0.3654 Acc: 0.8933\n",
      "\n",
      "Epoch 15/25\n",
      "----------\n",
      "train Loss: 0.0535 Acc: 0.9874\n",
      "val Loss: 0.3611 Acc: 0.8933\n",
      "\n",
      "Epoch 16/25\n",
      "----------\n",
      "train Loss: 0.0574 Acc: 0.9843\n",
      "val Loss: 0.3745 Acc: 0.8849\n",
      "\n",
      "Epoch 17/25\n",
      "----------\n",
      "train Loss: 0.0606 Acc: 0.9822\n",
      "val Loss: 0.3689 Acc: 0.8954\n",
      "\n",
      "Epoch 18/25\n",
      "----------\n",
      "train Loss: 0.0553 Acc: 0.9869\n",
      "val Loss: 0.3717 Acc: 0.8933\n",
      "\n",
      "Epoch 19/25\n",
      "----------\n",
      "train Loss: 0.0532 Acc: 0.9864\n",
      "val Loss: 0.3795 Acc: 0.8870\n",
      "\n",
      "Epoch 20/25\n",
      "----------\n",
      "train Loss: 0.0536 Acc: 0.9859\n",
      "val Loss: 0.3813 Acc: 0.8933\n",
      "\n",
      "Epoch 21/25\n",
      "----------\n",
      "train Loss: 0.0535 Acc: 0.9859\n",
      "val Loss: 0.3960 Acc: 0.8828\n",
      "\n",
      "Epoch 22/25\n",
      "----------\n",
      "train Loss: 0.0568 Acc: 0.9869\n",
      "val Loss: 0.3900 Acc: 0.8870\n",
      "\n",
      "Epoch 23/25\n",
      "----------\n",
      "train Loss: 0.0503 Acc: 0.9885\n",
      "val Loss: 0.3867 Acc: 0.8912\n",
      "\n",
      "Epoch 24/25\n",
      "----------\n",
      "train Loss: 0.0523 Acc: 0.9853\n",
      "val Loss: 0.3767 Acc: 0.8933\n",
      "\n",
      "Epoch 25/25\n",
      "----------\n",
      "train Loss: 0.0626 Acc: 0.9864\n",
      "val Loss: 0.3848 Acc: 0.8912\n",
      "\n",
      "Training complete in 15m 38s\n",
      "Best val Acc: 0.897490\n"
     ]
    }
   ],
   "source": [
    "model_ft = train_model(model_ft, criterion, optimizer_ft, exp_lr_scheduler, EPOCHS)"
   ]
  },
  {
   "cell_type": "markdown",
   "metadata": {},
   "source": [
    "# Visualize Model Predictions"
   ]
  },
  {
   "cell_type": "code",
   "execution_count": 10,
   "metadata": {},
   "outputs": [],
   "source": [
    "def visualize_model(model, num_images=6):\n",
    "    \"\"\"Shows predictions for a few images\"\"\"\n",
    "    was_training = model.training\n",
    "    model.eval()\n",
    "    images_so_far = 0\n",
    "    fig = plt.figure()\n",
    "\n",
    "    with torch.no_grad(): # Reduces memory consumption for inference\n",
    "        for i, (inputs, labels) in enumerate(dataloaders['val']):\n",
    "            inputs = inputs.to(device)\n",
    "            labels = labels.to(device)\n",
    "\n",
    "            outputs = model(inputs)\n",
    "            _, preds = torch.max(outputs, 1) # Returns the max output\n",
    "\n",
    "            for j in range(inputs.size()[0]):\n",
    "                images_so_far += 1\n",
    "\n",
    "                # // divides and only keeps the integer part\n",
    "                ax = plt.subplot(num_images//2, 2, images_so_far)\n",
    "                ax.axis('off')\n",
    "                ax.set_title(f'predicted: {class_names[preds[j]]}')\n",
    "                imshow(inputs.cpu().data[j])\n",
    "\n",
    "                if images_so_far == num_images:\n",
    "                    model.train(mode=was_training)\n",
    "                    return\n",
    "        model.train(mode=was_training)"
   ]
  },
  {
   "cell_type": "code",
   "execution_count": 11,
   "metadata": {},
   "outputs": [
    {
     "data": {
      "image/png": "[encoded data removed]",
      "text/plain": [
       "<Figure size 432x288 with 1 Axes>"
      ]
     },
     "metadata": {
      "needs_background": "light"
     },
     "output_type": "display_data"
    },
    {
     "data": {
      "image/png": "[encoded data removed]",
      "text/plain": [
       "<Figure size 432x288 with 1 Axes>"
      ]
     },
     "metadata": {
      "needs_background": "light"
     },
     "output_type": "display_data"
    },
    {
     "data": {
      "image/png": "[encoded data removed]",
      "text/plain": [
       "<Figure size 432x288 with 1 Axes>"
      ]
     },
     "metadata": {
      "needs_background": "light"
     },
     "output_type": "display_data"
    },
    {
     "data": {
      "image/png": "[encoded data removed]",
      "text/plain": [
       "<Figure size 432x288 with 1 Axes>"
      ]
     },
     "metadata": {
      "needs_background": "light"
     },
     "output_type": "display_data"
    },
    {
     "data": {
      "image/png": "[encoded data removed]",
      "text/plain": [
       "<Figure size 432x288 with 1 Axes>"
      ]
     },
     "metadata": {
      "needs_background": "light"
     },
     "output_type": "display_data"
    },
    {
     "data": {
      "image/png": "[encoded data removed]",
      "text/plain": [
       "<Figure size 432x288 with 1 Axes>"
      ]
     },
     "metadata": {
      "needs_background": "light"
     },
     "output_type": "display_data"
    }
   ],
   "source": [
    "visualize_model(model_ft)"
   ]
  },
  {
   "cell_type": "markdown",
   "metadata": {},
   "source": [
    "# Save Model\n"
   ]
  },
  {
   "cell_type": "code",
   "execution_count": 17,
   "metadata": {},
   "outputs": [],
   "source": [
    "torch.save(model_ft, os.path.join(wandb.run.dir, 'model.pt'))"
   ]
  },
  {
   "cell_type": "code",
   "execution_count": 18,
   "metadata": {},
   "outputs": [
    {
     "data": {
      "text/html": [
       "Waiting for W&B process to finish... <strong style=\"color:green\">(success).</strong>"
      ],
      "text/plain": [
       "<IPython.core.display.HTML object>"
      ]
     },
     "metadata": {},
     "output_type": "display_data"
    },
    {
     "data": {
      "text/html": [
       "Synced <strong style=\"color:#cdcd00\">wandering-jazz-8</strong>: <a href=\"https://wandb.ai/eddiezhuang/paper-io-ai/runs/1o0dyh11\" target=\"_blank\">https://wandb.ai/eddiezhuang/paper-io-ai/runs/1o0dyh11</a><br/>Synced 5 W&B file(s), 0 media file(s), 0 artifact file(s) and 1 other file(s)"
      ],
      "text/plain": [
       "<IPython.core.display.HTML object>"
      ]
     },
     "metadata": {},
     "output_type": "display_data"
    },
    {
     "data": {
      "text/html": [
       "Find logs at: <code>.\\wandb\\run-20220713_204409-1o0dyh11\\logs</code>"
      ],
      "text/plain": [
       "<IPython.core.display.HTML object>"
      ]
     },
     "metadata": {},
     "output_type": "display_data"
    }
   ],
   "source": [
    "wandb.finish()"
   ]
  }
 ],
 "metadata": {
  "kernelspec": {
   "display_name": "Python 3.9.12 ('behaviourclone')",
   "language": "python",
   "name": "python3"
  },
  "language_info": {
   "codemirror_mode": {
    "name": "ipython",
    "version": 3
   },
   "file_extension": ".py",
   "mimetype": "text/x-python",
   "name": "python",
   "nbconvert_exporter": "python",
   "pygments_lexer": "ipython3",
   "version": "3.9.12"
  },
  "orig_nbformat": 4,
  "vscode": {
   "interpreter": {
    "hash": "81f6084b0e7cce954e108fc0a0391af68c4181771aad5745dbccfd4b74c77fe3"
   }
  }
 },
 "nbformat": 4,
 "nbformat_minor": 2
}
